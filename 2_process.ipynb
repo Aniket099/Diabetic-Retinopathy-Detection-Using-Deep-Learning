{
 "cells": [
  {
   "cell_type": "markdown",
   "metadata": {},
   "source": [
    "## This Notebook gives performs Data Splitting and Resizing of Images (to load in Google Drive - Colab)"
   ]
  },
  {
   "cell_type": "markdown",
   "metadata": {},
   "source": [
    "#  <font color='red'>Table of Contents</font>"
   ]
  },
  {
   "cell_type": "markdown",
   "metadata": {},
   "source": [
    "[6. Train Validation Split](#section6)<br>\n",
    "[7. Resize and save](#section7)<br>\n",
    "[8. Image Pre Processing and save](#section8)<br>"
   ]
  },
  {
   "cell_type": "code",
   "execution_count": 2,
   "metadata": {},
   "outputs": [
    {
     "name": "stdout",
     "output_type": "stream",
     "text": [
      "CWD is d:\\MTech Project\\Project\n"
     ]
    }
   ],
   "source": [
    "# Basic Libraries\n",
    "import multiprocessing\n",
    "from multiprocessing.pool import ThreadPool\n",
    "import warnings\n",
    "warnings.filterwarnings(\"ignore\")\n",
    "\n",
    "import os\n",
    "import pickle\n",
    "import pandas as pd\n",
    "import numpy as np\n",
    "from tqdm import tqdm, tqdm_notebook\n",
    "from prettytable import PrettyTable\n",
    "\n",
    "print('CWD is', os.getcwd())\n",
    "\n",
    "# Visualization Libraries\n",
    "from sklearn.manifold import TSNE\n",
    "import seaborn as sns\n",
    "import matplotlib.pyplot as plt\n",
    "plt.rcParams[\"axes.grid\"] = False  # %matplotlib inline not needed in VS Code or Jupyter modern versions\n",
    "\n",
    "# Image Libraries\n",
    "from PIL import Image\n",
    "import cv2\n",
    "\n",
    "# Scikit-learn Utilities\n",
    "from sklearn.model_selection import train_test_split\n",
    "\n",
    "# ✅ Deep Learning Libraries (from tensorflow.keras)\n",
    "from tensorflow import keras\n",
    "from tensorflow.keras import applications\n",
    "from tensorflow.keras.preprocessing.image import ImageDataGenerator\n",
    "from tensorflow.keras.utils import img_to_array, array_to_img, load_img\n",
    "from tensorflow.keras import optimizers, Model, Sequential\n",
    "from tensorflow.keras.layers import Input, GlobalAveragePooling2D, Dropout, Dense, Activation\n",
    "from tensorflow.keras.callbacks import EarlyStopping, ReduceLROnPlateau\n"
   ]
  },
  {
   "cell_type": "markdown",
   "metadata": {},
   "source": [
    "#  <a id = 'section6'> <font color='red'>  6. Train Validation Split</font> </a>"
   ]
  },
  {
   "cell_type": "code",
   "execution_count": 5,
   "metadata": {},
   "outputs": [],
   "source": [
    "import pandas as pd\n",
    "import os\n",
    "\n",
    "def load_data():\n",
    "    base_path = r\"D:\\MTech Project\\Dataset\\Unlabeled Data\"\n",
    "    \n",
    "    # Load CSVs\n",
    "    df_train = pd.read_csv(os.path.join(base_path, \"train.csv\"))\n",
    "    df_test = pd.read_csv(os.path.join(base_path, \"test.csv\"))\n",
    "\n",
    "    # Image directories\n",
    "    train_dir = os.path.join(base_path, 'train_images')\n",
    "    test_dir = os.path.join(base_path, 'test_images')\n",
    "    \n",
    "    # Add file path and filename columns\n",
    "    df_train['file_path'] = df_train['id_code'].apply(lambda x: os.path.join(train_dir, f\"{x}.png\"))\n",
    "    df_test['file_path'] = df_test['id_code'].apply(lambda x: os.path.join(test_dir, f\"{x}.png\"))\n",
    "    \n",
    "    df_train['file_name'] = df_train['id_code'].apply(lambda x: f\"{x}.png\")\n",
    "    df_test['file_name'] = df_test['id_code'].apply(lambda x: f\"{x}.png\")\n",
    "    \n",
    "    df_train['diagnosis'] = df_train['diagnosis'].astype(str)\n",
    "    return df_train, df_test\n"
   ]
  },
  {
   "cell_type": "code",
   "execution_count": 6,
   "metadata": {},
   "outputs": [
    {
     "name": "stdout",
     "output_type": "stream",
     "text": [
      "(3662, 4) (1928, 3) \n",
      "\n"
     ]
    },
    {
     "data": {
      "text/html": [
       "<div>\n",
       "<style scoped>\n",
       "    .dataframe tbody tr th:only-of-type {\n",
       "        vertical-align: middle;\n",
       "    }\n",
       "\n",
       "    .dataframe tbody tr th {\n",
       "        vertical-align: top;\n",
       "    }\n",
       "\n",
       "    .dataframe thead th {\n",
       "        text-align: right;\n",
       "    }\n",
       "</style>\n",
       "<table border=\"1\" class=\"dataframe\">\n",
       "  <thead>\n",
       "    <tr style=\"text-align: right;\">\n",
       "      <th></th>\n",
       "      <th>id_code</th>\n",
       "      <th>diagnosis</th>\n",
       "      <th>file_path</th>\n",
       "      <th>file_name</th>\n",
       "    </tr>\n",
       "  </thead>\n",
       "  <tbody>\n",
       "    <tr>\n",
       "      <th>0</th>\n",
       "      <td>000c1434d8d7</td>\n",
       "      <td>2</td>\n",
       "      <td>D:\\MTech Project\\Dataset\\Unlabeled Data\\train_...</td>\n",
       "      <td>000c1434d8d7.png</td>\n",
       "    </tr>\n",
       "    <tr>\n",
       "      <th>1</th>\n",
       "      <td>001639a390f0</td>\n",
       "      <td>4</td>\n",
       "      <td>D:\\MTech Project\\Dataset\\Unlabeled Data\\train_...</td>\n",
       "      <td>001639a390f0.png</td>\n",
       "    </tr>\n",
       "    <tr>\n",
       "      <th>2</th>\n",
       "      <td>0024cdab0c1e</td>\n",
       "      <td>1</td>\n",
       "      <td>D:\\MTech Project\\Dataset\\Unlabeled Data\\train_...</td>\n",
       "      <td>0024cdab0c1e.png</td>\n",
       "    </tr>\n",
       "    <tr>\n",
       "      <th>3</th>\n",
       "      <td>002c21358ce6</td>\n",
       "      <td>0</td>\n",
       "      <td>D:\\MTech Project\\Dataset\\Unlabeled Data\\train_...</td>\n",
       "      <td>002c21358ce6.png</td>\n",
       "    </tr>\n",
       "    <tr>\n",
       "      <th>4</th>\n",
       "      <td>005b95c28852</td>\n",
       "      <td>0</td>\n",
       "      <td>D:\\MTech Project\\Dataset\\Unlabeled Data\\train_...</td>\n",
       "      <td>005b95c28852.png</td>\n",
       "    </tr>\n",
       "    <tr>\n",
       "      <th>5</th>\n",
       "      <td>0083ee8054ee</td>\n",
       "      <td>4</td>\n",
       "      <td>D:\\MTech Project\\Dataset\\Unlabeled Data\\train_...</td>\n",
       "      <td>0083ee8054ee.png</td>\n",
       "    </tr>\n",
       "  </tbody>\n",
       "</table>\n",
       "</div>"
      ],
      "text/plain": [
       "        id_code diagnosis                                          file_path  \\\n",
       "0  000c1434d8d7         2  D:\\MTech Project\\Dataset\\Unlabeled Data\\train_...   \n",
       "1  001639a390f0         4  D:\\MTech Project\\Dataset\\Unlabeled Data\\train_...   \n",
       "2  0024cdab0c1e         1  D:\\MTech Project\\Dataset\\Unlabeled Data\\train_...   \n",
       "3  002c21358ce6         0  D:\\MTech Project\\Dataset\\Unlabeled Data\\train_...   \n",
       "4  005b95c28852         0  D:\\MTech Project\\Dataset\\Unlabeled Data\\train_...   \n",
       "5  0083ee8054ee         4  D:\\MTech Project\\Dataset\\Unlabeled Data\\train_...   \n",
       "\n",
       "          file_name  \n",
       "0  000c1434d8d7.png  \n",
       "1  001639a390f0.png  \n",
       "2  0024cdab0c1e.png  \n",
       "3  002c21358ce6.png  \n",
       "4  005b95c28852.png  \n",
       "5  0083ee8054ee.png  "
      ]
     },
     "execution_count": 6,
     "metadata": {},
     "output_type": "execute_result"
    }
   ],
   "source": [
    "df_train,df_test = load_data()\n",
    "print(df_train.shape,df_test.shape,'\\n')\n",
    "df_train.head(6)"
   ]
  },
  {
   "cell_type": "code",
   "execution_count": 7,
   "metadata": {},
   "outputs": [
    {
     "name": "stdout",
     "output_type": "stream",
     "text": [
      "(2929, 4) (733, 4)\n"
     ]
    }
   ],
   "source": [
    "df_train_train,df_train_valid = train_test_split(df_train,test_size = 0.2)\n",
    "print(df_train_train.shape,df_train_valid.shape)"
   ]
  },
  {
   "cell_type": "code",
   "execution_count": 8,
   "metadata": {},
   "outputs": [],
   "source": [
    "'''This Function Plots a Bar plot of output Classes Distribution'''\n",
    "\n",
    "def plot_classes(df,title):\n",
    "    df_group = pd.DataFrame(df.groupby('diagnosis').agg('size').reset_index())\n",
    "    df_group.columns = ['diagnosis','count']\n",
    "\n",
    "    sns.set(rc={'figure.figsize':(10,5)}, style = 'whitegrid')\n",
    "    sns.barplot(x = 'diagnosis',y='count',data = df_group,palette = \"Blues_d\")\n",
    "    plt.title('Output Class Distribution ' + str(title))\n",
    "    plt.show() "
   ]
  },
  {
   "cell_type": "code",
   "execution_count": 9,
   "metadata": {},
   "outputs": [
    {
     "data": {
      "image/png": "[encoded data removed]",
      "text/plain": [
       "<Figure size 1000x500 with 1 Axes>"
      ]
     },
     "metadata": {},
     "output_type": "display_data"
    }
   ],
   "source": [
    "plot_classes(df_train_train,\"TRAIN DATA\")"
   ]
  },
  {
   "cell_type": "code",
   "execution_count": 10,
   "metadata": {},
   "outputs": [
    {
     "data": {
      "image/png": "[encoded data removed]",
      "text/plain": [
       "<Figure size 1000x500 with 1 Axes>"
      ]
     },
     "metadata": {},
     "output_type": "display_data"
    }
   ],
   "source": [
    "plot_classes(df_train_valid,'VALIDATION DATA')"
   ]
  },
  {
   "cell_type": "code",
   "execution_count": 17,
   "metadata": {},
   "outputs": [
    {
     "data": {
      "text/plain": [
       "\"\\nfile = open('df_train_train', 'wb')\\npickle.dump(df_train_train, file)\\nfile.close()\\n\\nfile = open('df_train_test', 'wb')\\npickle.dump(df_train_test, file)\\nfile.close()\\n\""
      ]
     },
     "execution_count": 17,
     "metadata": {},
     "output_type": "execute_result"
    }
   ],
   "source": [
    "'''\n",
    "file = open('df_train_train', 'wb')\n",
    "pickle.dump(df_train_train, file)\n",
    "file.close()\n",
    "\n",
    "file = open('df_train_test', 'wb')\n",
    "pickle.dump(df_train_test, file)\n",
    "file.close()\n",
    "'''"
   ]
  },
  {
   "cell_type": "code",
   "execution_count": 18,
   "metadata": {},
   "outputs": [],
   "source": [
    "import pandas as pd\n",
    "from sklearn.model_selection import train_test_split\n",
    "import os\n",
    "import pickle\n",
    "\n",
    "def load_data():\n",
    "    base_path = r\"D:\\MTech Project\\Dataset\\Unlabeled Data\"\n",
    "    \n",
    "    df_train = pd.read_csv(os.path.join(base_path, \"train.csv\"))\n",
    "    df_test = pd.read_csv(os.path.join(base_path, \"test.csv\"))\n",
    "\n",
    "    train_dir = os.path.join(base_path, 'train_images')\n",
    "    test_dir = os.path.join(base_path, 'test_images')\n",
    "    \n",
    "    df_train['file_path'] = df_train['id_code'].apply(lambda x: os.path.join(train_dir, f\"{x}.png\"))\n",
    "    df_test['file_path'] = df_test['id_code'].apply(lambda x: os.path.join(test_dir, f\"{x}.png\"))\n",
    "    \n",
    "    df_train['file_name'] = df_train['id_code'].apply(lambda x: f\"{x}.png\")\n",
    "    df_test['file_name'] = df_test['id_code'].apply(lambda x: f\"{x}.png\")\n",
    "    \n",
    "    df_train['diagnosis'] = df_train['diagnosis'].astype(str)\n",
    "    return df_train, df_test\n",
    "\n",
    "# Load and split\n",
    "df_train, df_test = load_data()\n",
    "df_train_train, df_train_test = train_test_split(df_train, test_size=0.2, random_state=42, stratify=df_train['diagnosis'])\n",
    "\n",
    "# Save\n",
    "save_path = r\"D:\\MTech Project\\Dataset\\Pickled Data\"\n",
    "os.makedirs(save_path, exist_ok=True)\n",
    "\n",
    "with open(os.path.join(save_path, 'df_train_train.pkl'), 'wb') as f:\n",
    "    pickle.dump(df_train_train, f)\n",
    "\n",
    "with open(os.path.join(save_path, 'df_train_test.pkl'), 'wb') as f:\n",
    "    pickle.dump(df_train_test, f)\n"
   ]
  },
  {
   "cell_type": "code",
   "execution_count": 19,
   "metadata": {},
   "outputs": [],
   "source": [
    "# Set your correct pickle file directory\n",
    "load_path = r\"D:\\MTech Project\\Dataset\\Pickled Data\"\n",
    "\n",
    "# Load training split\n",
    "with open(os.path.join(load_path, 'df_train_train.pkl'), 'rb') as file:\n",
    "    df_train_train = pickle.load(file)\n",
    "\n",
    "# Load testing split\n",
    "with open(os.path.join(load_path, 'df_train_test.pkl'), 'rb') as file:\n",
    "    df_train_test = pickle.load(file)\n"
   ]
  },
  {
   "cell_type": "code",
   "execution_count": 24,
   "metadata": {},
   "outputs": [
    {
     "name": "stdout",
     "output_type": "stream",
     "text": [
      "Train/Test DataFrame shapes:\n",
      "(2929, 4) (733, 4)\n"
     ]
    }
   ],
   "source": [
    "\n",
    "# Set base paths\n",
    "base_pickle_path = r\"D:\\MTech Project\\Dataset\\Pickled Data\"\n",
    "image_dir = r\"D:\\MTech Project\\Dataset\\Preprocessed\"\n",
    "\n",
    "# Load pickled DataFrames\n",
    "with open(os.path.join(base_pickle_path, 'df_train_train.pkl'), 'rb') as file:\n",
    "    df_train_train = pickle.load(file)\n",
    "\n",
    "with open(os.path.join(base_pickle_path, 'df_train_test.pkl'), 'rb') as file:\n",
    "    df_train_test = pickle.load(file)\n",
    "\n",
    "# Print dataframe shapes\n",
    "print(\"Train/Test DataFrame shapes:\")\n",
    "print(df_train_train.shape, df_train_test.shape)\n",
    "\n",
    "# Image folders\n",
    "train_image_folder = os.path.join(image_dir, 'train_images_resized_preprocessed')\n",
    "test_image_folder = os.path.join(image_dir, 'test_images_resized_preprocessed')\n",
    "\n",
    "# Safely check and print file counts\n",
    "if os.path.exists(train_image_folder) and os.path.exists(test_image_folder):\n",
    "    print(\"Number of preprocessed images:\")\n",
    "    print(len(os.listdir(train_image_folder)), len(os.listdir(test_image_folder)))\n",
    "\n"
   ]
  },
  {
   "cell_type": "markdown",
   "metadata": {},
   "source": [
    "#  <a id = 'section7'> <font color='red'>  7. Resize and Save</font> </a>"
   ]
  },
  {
   "cell_type": "code",
   "execution_count": 25,
   "metadata": {},
   "outputs": [],
   "source": [
    "IMG_SIZE  = 512"
   ]
  },
  {
   "cell_type": "code",
   "execution_count": 26,
   "metadata": {},
   "outputs": [],
   "source": [
    "'''Function loads an image from Folder , Resizes and saves in another directory '''\n",
    "\n",
    "def image_resize_save(file):\n",
    "    input_filepath = os.path.join('./','train_images','{}.png'.format(file))\n",
    "    output_filepath = os.path.join('./','valid_images_resized','{}.png'.format(file))\n",
    "    img = cv2.imread(input_filepath)\n",
    "    cv2.imwrite(output_filepath, cv2.resize(img, (IMG_SIZE,IMG_SIZE)))\n",
    "#image_resize_save(df_train.id_code.iloc[201])"
   ]
  },
  {
   "cell_type": "code",
   "execution_count": 27,
   "metadata": {},
   "outputs": [],
   "source": [
    "'''This Function uses Multi processing for faster saving of images into folder'''\n",
    "\n",
    "def multiprocess_image_downloader(process:int, imgs:list):\n",
    "    \"\"\"\n",
    "    Inputs:\n",
    "        process: (int) number of process to run\n",
    "        imgs:(list) list of images\n",
    "    \"\"\"\n",
    "    print(f'MESSAGE: Running {process} process')\n",
    "    results = ThreadPool(process).map(image_resize_save, imgs)\n",
    "    return results"
   ]
  },
  {
   "cell_type": "markdown",
   "metadata": {},
   "source": [
    "##### Summary - Using Multiprocessing (6 cores), we managed to resize and save images within 10 minutes, and reducing IMG_SIZE to 512, thereby reducing disk-space from 20 GB (earlier) to 1 GB (after resizing)."
   ]
  },
  {
   "cell_type": "markdown",
   "metadata": {},
   "source": [
    "#  <a id = 'section8'> <font color='red'>  8. Image Pre Processing and save</font> </a>"
   ]
  },
  {
   "cell_type": "code",
   "execution_count": 29,
   "metadata": {},
   "outputs": [],
   "source": [
    "def crop_image_from_gray(img,tol=7):\n",
    "    if img.ndim ==2:\n",
    "        mask = img>tol\n",
    "        return img[np.ix_(mask.any(1),mask.any(0))]\n",
    "    elif img.ndim==3:\n",
    "        gray_img = cv2.cvtColor(img, cv2.COLOR_RGB2GRAY)\n",
    "        mask = gray_img>tol\n",
    "        \n",
    "        check_shape = img[:,:,0][np.ix_(mask.any(1),mask.any(0))].shape[0]\n",
    "        if (check_shape == 0): # image is too dark so that we crop out everything,\n",
    "            return img # return original image\n",
    "        else:\n",
    "            img1=img[:,:,0][np.ix_(mask.any(1),mask.any(0))]\n",
    "            img2=img[:,:,1][np.ix_(mask.any(1),mask.any(0))]\n",
    "            img3=img[:,:,2][np.ix_(mask.any(1),mask.any(0))]\n",
    "    #         print(img1.shape,img2.shape,img3.shape)\n",
    "            img = np.stack([img1,img2,img3],axis=-1)\n",
    "    #         print(img.shape)\n",
    "        return img\n",
    "\n",
    "def circle_crop(img, sigmaX = 30):   \n",
    "    \"\"\"\n",
    "    Create circular crop around image centre    \n",
    "    \"\"\"    \n",
    "    img = crop_image_from_gray(img)    \n",
    "    img = cv2.cvtColor(img, cv2.COLOR_BGR2RGB)\n",
    "    \n",
    "    height, width, depth = img.shape    \n",
    "    \n",
    "    x = int(width/2)\n",
    "    y = int(height/2)\n",
    "    r = np.amin((x,y))\n",
    "    \n",
    "    circle_img = np.zeros((height, width), np.uint8)\n",
    "    cv2.circle(circle_img, (x,y), int(r), 1, thickness=-1)\n",
    "    img = cv2.bitwise_and(img, img, mask=circle_img)\n",
    "    img = crop_image_from_gray(img)\n",
    "    img=cv2.addWeighted(img,4, cv2.GaussianBlur( img , (0,0) , sigmaX) ,-4 ,128)\n",
    "    return img \n",
    "\n",
    "def preprocess_image(file):\n",
    "    input_filepath = os.path.join('./','test_images_resized','{}.png'.format(file))\n",
    "    output_filepath = os.path.join('./','test_images_resized_preprocessed','{}.png'.format(file))\n",
    "    \n",
    "    img = cv2.imread(input_filepath)\n",
    "    img = circle_crop(img) \n",
    "    cv2.imwrite(output_filepath, cv2.resize(img, (IMG_SIZE,IMG_SIZE)))"
   ]
  },
  {
   "cell_type": "code",
   "execution_count": 30,
   "metadata": {},
   "outputs": [],
   "source": [
    "'''This Function uses Multi processing for faster saving of images into folder'''\n",
    "\n",
    "def multiprocess_image_processor(process:int, imgs:list):\n",
    "    \"\"\"\n",
    "    Inputs:\n",
    "        process: (int) number of process to run\n",
    "        imgs:(list) list of images\n",
    "    \"\"\"\n",
    "    print(f'MESSAGE: Running {process} process')\n",
    "    results = ThreadPool(process).map(preprocess_image, imgs)\n",
    "    return results"
   ]
  }
 ],
 "metadata": {
  "kernelspec": {
   "display_name": "Python 3",
   "language": "python",
   "name": "python3"
  },
  "language_info": {
   "codemirror_mode": {
    "name": "ipython",
    "version": 3
   },
   "file_extension": ".py",
   "mimetype": "text/x-python",
   "name": "python",
   "nbconvert_exporter": "python",
   "pygments_lexer": "ipython3",
   "version": "3.10.8"
  }
 },
 "nbformat": 4,
 "nbformat_minor": 2
}
